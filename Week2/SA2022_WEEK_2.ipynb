{
 "cells": [
  {
   "cell_type": "markdown",
   "metadata": {
    "id": "utQ_VDVOxEqY"
   },
   "source": [
    "# Summer Analytics 2022\n",
    "# WEEK-2 Graded Assignment: Linear Regression\n",
    "\n",
    "## Introduction\n",
    "\n",
    "In this exercise, you will implement linear regression and get to see it work on data. Before starting on this programming exercise, we strongly recommend watching the video lectures and work out ungraded assisgnment ,completing the review questions for the associated topics.\n",
    "\n",
    "All the information you need for solving this assignment is in this notebook, and all the code you will be implementing will take place within this notebook.\n",
    "\n",
    "Before we begin with the exercises, we need to import all libraries required for this programming exercise. Throughout the course, we will be using [`numpy`](http://www.numpy.org/) for all arrays and matrix operations, and [`matplotlib`](https://matplotlib.org/) for plotting."
   ]
  },
  {
   "cell_type": "code",
   "execution_count": 45,
   "metadata": {
    "executionInfo": {
     "elapsed": 1902,
     "status": "ok",
     "timestamp": 1654776436083,
     "user": {
      "displayName": "Nandini Shukla",
      "userId": "05734889060531489350"
     },
     "user_tz": -330
    },
    "id": "CKEU93spxNnZ"
   },
   "outputs": [],
   "source": [
    "# used for manipulating directory paths\n",
    "import os\n",
    "\n",
    "# Scientific and vector computation for python\n",
    "import numpy as np\n",
    "\n",
    "# Plotting library\n",
    "from matplotlib import pyplot\n",
    "from mpl_toolkits.mplot3d import Axes3D  # needed to plot 3-D surfaces\n",
    "\n",
    "# tells matplotlib to embed plots within the notebook\n",
    "%matplotlib inline"
   ]
  },
  {
   "cell_type": "markdown",
   "metadata": {
    "id": "12exMQYTxSAg"
   },
   "source": [
    "Iris species of a flower is one of the most popular datasets for machine learning. This dataset is primarily for classification, but here we will use same dataset with some changes so that we can use it for Linear Regression. Let's load the dataset first."
   ]
  },
  {
   "cell_type": "code",
   "execution_count": 46,
   "metadata": {
    "executionInfo": {
     "elapsed": 1861,
     "status": "ok",
     "timestamp": 1654776437893,
     "user": {
      "displayName": "Nandini Shukla",
      "userId": "05734889060531489350"
     },
     "user_tz": -330
    },
    "id": "SXs7mf_Yxve_"
   },
   "outputs": [],
   "source": [
    "import pandas as pd\n",
    "from sklearn import datasets\n",
    "iris = datasets.load_iris()"
   ]
  },
  {
   "cell_type": "markdown",
   "metadata": {
    "id": "Acrcr0EOxwwn"
   },
   "source": [
    "It includes three iris species named as 'setosa' , 'versicolor', 'virginica' with  some properties about each flower. One flower species is linearly separable from the other two, but the other two are not linearly separable from each other.\n",
    "\n",
    "The columns in this dataset are:\n",
    "\n",
    "Id, \n",
    "Sepal Length Cm, \n",
    "Sepal Width Cm,,\n",
    "Petal Length Cm, \n",
    "Petal Width Cm, \n",
    "Species. Let's see some of the first rows of the datasets after loading it from sklearn."
   ]
  },
  {
   "cell_type": "code",
   "execution_count": 47,
   "metadata": {
    "colab": {
     "base_uri": "https://localhost:8080/",
     "height": 677
    },
    "executionInfo": {
     "elapsed": 98,
     "status": "ok",
     "timestamp": 1654776437900,
     "user": {
      "displayName": "Nandini Shukla",
      "userId": "05734889060531489350"
     },
     "user_tz": -330
    },
    "id": "mqolDMFjxg8g",
    "outputId": "58f63d32-a4d6-487b-efb7-fbdec91cdcbb"
   },
   "outputs": [
    {
     "data": {
      "text/html": [
       "<div>\n",
       "<style scoped>\n",
       "    .dataframe tbody tr th:only-of-type {\n",
       "        vertical-align: middle;\n",
       "    }\n",
       "\n",
       "    .dataframe tbody tr th {\n",
       "        vertical-align: top;\n",
       "    }\n",
       "\n",
       "    .dataframe thead th {\n",
       "        text-align: right;\n",
       "    }\n",
       "</style>\n",
       "<table border=\"1\" class=\"dataframe\">\n",
       "  <thead>\n",
       "    <tr style=\"text-align: right;\">\n",
       "      <th></th>\n",
       "      <th>sepal length (cm)</th>\n",
       "      <th>sepal width (cm)</th>\n",
       "      <th>petal length (cm)</th>\n",
       "      <th>petal width (cm)</th>\n",
       "      <th>target</th>\n",
       "    </tr>\n",
       "  </thead>\n",
       "  <tbody>\n",
       "    <tr>\n",
       "      <th>0</th>\n",
       "      <td>5.1</td>\n",
       "      <td>3.5</td>\n",
       "      <td>1.4</td>\n",
       "      <td>0.2</td>\n",
       "      <td>0</td>\n",
       "    </tr>\n",
       "    <tr>\n",
       "      <th>1</th>\n",
       "      <td>4.9</td>\n",
       "      <td>3.0</td>\n",
       "      <td>1.4</td>\n",
       "      <td>0.2</td>\n",
       "      <td>0</td>\n",
       "    </tr>\n",
       "    <tr>\n",
       "      <th>2</th>\n",
       "      <td>4.7</td>\n",
       "      <td>3.2</td>\n",
       "      <td>1.3</td>\n",
       "      <td>0.2</td>\n",
       "      <td>0</td>\n",
       "    </tr>\n",
       "    <tr>\n",
       "      <th>3</th>\n",
       "      <td>4.6</td>\n",
       "      <td>3.1</td>\n",
       "      <td>1.5</td>\n",
       "      <td>0.2</td>\n",
       "      <td>0</td>\n",
       "    </tr>\n",
       "    <tr>\n",
       "      <th>4</th>\n",
       "      <td>5.0</td>\n",
       "      <td>3.6</td>\n",
       "      <td>1.4</td>\n",
       "      <td>0.2</td>\n",
       "      <td>0</td>\n",
       "    </tr>\n",
       "    <tr>\n",
       "      <th>5</th>\n",
       "      <td>5.4</td>\n",
       "      <td>3.9</td>\n",
       "      <td>1.7</td>\n",
       "      <td>0.4</td>\n",
       "      <td>0</td>\n",
       "    </tr>\n",
       "    <tr>\n",
       "      <th>6</th>\n",
       "      <td>4.6</td>\n",
       "      <td>3.4</td>\n",
       "      <td>1.4</td>\n",
       "      <td>0.3</td>\n",
       "      <td>0</td>\n",
       "    </tr>\n",
       "    <tr>\n",
       "      <th>7</th>\n",
       "      <td>5.0</td>\n",
       "      <td>3.4</td>\n",
       "      <td>1.5</td>\n",
       "      <td>0.2</td>\n",
       "      <td>0</td>\n",
       "    </tr>\n",
       "    <tr>\n",
       "      <th>8</th>\n",
       "      <td>4.4</td>\n",
       "      <td>2.9</td>\n",
       "      <td>1.4</td>\n",
       "      <td>0.2</td>\n",
       "      <td>0</td>\n",
       "    </tr>\n",
       "    <tr>\n",
       "      <th>9</th>\n",
       "      <td>4.9</td>\n",
       "      <td>3.1</td>\n",
       "      <td>1.5</td>\n",
       "      <td>0.1</td>\n",
       "      <td>0</td>\n",
       "    </tr>\n",
       "    <tr>\n",
       "      <th>10</th>\n",
       "      <td>5.4</td>\n",
       "      <td>3.7</td>\n",
       "      <td>1.5</td>\n",
       "      <td>0.2</td>\n",
       "      <td>0</td>\n",
       "    </tr>\n",
       "    <tr>\n",
       "      <th>11</th>\n",
       "      <td>4.8</td>\n",
       "      <td>3.4</td>\n",
       "      <td>1.6</td>\n",
       "      <td>0.2</td>\n",
       "      <td>0</td>\n",
       "    </tr>\n",
       "    <tr>\n",
       "      <th>12</th>\n",
       "      <td>4.8</td>\n",
       "      <td>3.0</td>\n",
       "      <td>1.4</td>\n",
       "      <td>0.1</td>\n",
       "      <td>0</td>\n",
       "    </tr>\n",
       "    <tr>\n",
       "      <th>13</th>\n",
       "      <td>4.3</td>\n",
       "      <td>3.0</td>\n",
       "      <td>1.1</td>\n",
       "      <td>0.1</td>\n",
       "      <td>0</td>\n",
       "    </tr>\n",
       "    <tr>\n",
       "      <th>14</th>\n",
       "      <td>5.8</td>\n",
       "      <td>4.0</td>\n",
       "      <td>1.2</td>\n",
       "      <td>0.2</td>\n",
       "      <td>0</td>\n",
       "    </tr>\n",
       "    <tr>\n",
       "      <th>15</th>\n",
       "      <td>5.7</td>\n",
       "      <td>4.4</td>\n",
       "      <td>1.5</td>\n",
       "      <td>0.4</td>\n",
       "      <td>0</td>\n",
       "    </tr>\n",
       "    <tr>\n",
       "      <th>16</th>\n",
       "      <td>5.4</td>\n",
       "      <td>3.9</td>\n",
       "      <td>1.3</td>\n",
       "      <td>0.4</td>\n",
       "      <td>0</td>\n",
       "    </tr>\n",
       "    <tr>\n",
       "      <th>17</th>\n",
       "      <td>5.1</td>\n",
       "      <td>3.5</td>\n",
       "      <td>1.4</td>\n",
       "      <td>0.3</td>\n",
       "      <td>0</td>\n",
       "    </tr>\n",
       "    <tr>\n",
       "      <th>18</th>\n",
       "      <td>5.7</td>\n",
       "      <td>3.8</td>\n",
       "      <td>1.7</td>\n",
       "      <td>0.3</td>\n",
       "      <td>0</td>\n",
       "    </tr>\n",
       "    <tr>\n",
       "      <th>19</th>\n",
       "      <td>5.1</td>\n",
       "      <td>3.8</td>\n",
       "      <td>1.5</td>\n",
       "      <td>0.3</td>\n",
       "      <td>0</td>\n",
       "    </tr>\n",
       "  </tbody>\n",
       "</table>\n",
       "</div>"
      ],
      "text/plain": [
       "    sepal length (cm)  sepal width (cm)  petal length (cm)  petal width (cm)  \\\n",
       "0                 5.1               3.5                1.4               0.2   \n",
       "1                 4.9               3.0                1.4               0.2   \n",
       "2                 4.7               3.2                1.3               0.2   \n",
       "3                 4.6               3.1                1.5               0.2   \n",
       "4                 5.0               3.6                1.4               0.2   \n",
       "5                 5.4               3.9                1.7               0.4   \n",
       "6                 4.6               3.4                1.4               0.3   \n",
       "7                 5.0               3.4                1.5               0.2   \n",
       "8                 4.4               2.9                1.4               0.2   \n",
       "9                 4.9               3.1                1.5               0.1   \n",
       "10                5.4               3.7                1.5               0.2   \n",
       "11                4.8               3.4                1.6               0.2   \n",
       "12                4.8               3.0                1.4               0.1   \n",
       "13                4.3               3.0                1.1               0.1   \n",
       "14                5.8               4.0                1.2               0.2   \n",
       "15                5.7               4.4                1.5               0.4   \n",
       "16                5.4               3.9                1.3               0.4   \n",
       "17                5.1               3.5                1.4               0.3   \n",
       "18                5.7               3.8                1.7               0.3   \n",
       "19                5.1               3.8                1.5               0.3   \n",
       "\n",
       "    target  \n",
       "0        0  \n",
       "1        0  \n",
       "2        0  \n",
       "3        0  \n",
       "4        0  \n",
       "5        0  \n",
       "6        0  \n",
       "7        0  \n",
       "8        0  \n",
       "9        0  \n",
       "10       0  \n",
       "11       0  \n",
       "12       0  \n",
       "13       0  \n",
       "14       0  \n",
       "15       0  \n",
       "16       0  \n",
       "17       0  \n",
       "18       0  \n",
       "19       0  "
      ]
     },
     "execution_count": 47,
     "metadata": {},
     "output_type": "execute_result"
    }
   ],
   "source": [
    "iris_data =pd.DataFrame(iris.data, columns=iris.feature_names)\n",
    "iris_data[\"target\"]=iris.target\n",
    "iris_data.head(20)"
   ]
  },
  {
   "cell_type": "markdown",
   "metadata": {
    "id": "5xP2X_-tyRVK"
   },
   "source": [
    "We can now rename column name to make it more standard for ease of coding and readability."
   ]
  },
  {
   "cell_type": "code",
   "execution_count": 48,
   "metadata": {
    "executionInfo": {
     "elapsed": 94,
     "status": "ok",
     "timestamp": 1654776437903,
     "user": {
      "displayName": "Nandini Shukla",
      "userId": "05734889060531489350"
     },
     "user_tz": -330
    },
    "id": "23oV8rH5yf6Q"
   },
   "outputs": [],
   "source": [
    "iris_data.rename(columns={'sepal length (cm)':'sepal_length',\n",
    "                          'sepal width (cm)':'sepal_width',\n",
    "                          'petal length (cm)':'petal_length',\n",
    "                          'petal width (cm)':'petal_width'},inplace=True)"
   ]
  },
  {
   "cell_type": "markdown",
   "metadata": {
    "id": "VDQgzIYHymuP"
   },
   "source": [
    "Add a new column named \"species\" having value {if target == 0 : 'setosa' ,\n",
    "if target ==1 : 'versicolor',\n",
    "if target == 2 : 'virginica' }"
   ]
  },
  {
   "cell_type": "code",
   "execution_count": 49,
   "metadata": {
    "executionInfo": {
     "elapsed": 96,
     "status": "ok",
     "timestamp": 1654776437907,
     "user": {
      "displayName": "Nandini Shukla",
      "userId": "05734889060531489350"
     },
     "user_tz": -330
    },
    "id": "DQtfHndyU5Dn"
   },
   "outputs": [],
   "source": [
    "condition  = [(iris_data['target'] == 0) , (iris_data['target'] == 1),(iris_data['target'] == 2)]"
   ]
  },
  {
   "cell_type": "code",
   "execution_count": 50,
   "metadata": {
    "executionInfo": {
     "elapsed": 121,
     "status": "ok",
     "timestamp": 1654776437934,
     "user": {
      "displayName": "Nandini Shukla",
      "userId": "05734889060531489350"
     },
     "user_tz": -330
    },
    "id": "wrt2xTm-WGfW"
   },
   "outputs": [],
   "source": [
    "values = ['setosa','versicolor','virginica']"
   ]
  },
  {
   "cell_type": "code",
   "execution_count": 51,
   "metadata": {
    "executionInfo": {
     "elapsed": 124,
     "status": "ok",
     "timestamp": 1654776437939,
     "user": {
      "displayName": "Nandini Shukla",
      "userId": "05734889060531489350"
     },
     "user_tz": -330
    },
    "id": "__bM2w1XSRng"
   },
   "outputs": [],
   "source": [
    "iris_data['species'] = np.select(condition , values)"
   ]
  },
  {
   "cell_type": "code",
   "execution_count": 52,
   "metadata": {
    "colab": {
     "base_uri": "https://localhost:8080/",
     "height": 206
    },
    "executionInfo": {
     "elapsed": 125,
     "status": "ok",
     "timestamp": 1654776437941,
     "user": {
      "displayName": "Nandini Shukla",
      "userId": "05734889060531489350"
     },
     "user_tz": -330
    },
    "id": "qfbnJ3FVW6F3",
    "outputId": "89da2b13-77ea-4148-b92b-31dcfc9c877d"
   },
   "outputs": [
    {
     "data": {
      "text/html": [
       "<div>\n",
       "<style scoped>\n",
       "    .dataframe tbody tr th:only-of-type {\n",
       "        vertical-align: middle;\n",
       "    }\n",
       "\n",
       "    .dataframe tbody tr th {\n",
       "        vertical-align: top;\n",
       "    }\n",
       "\n",
       "    .dataframe thead th {\n",
       "        text-align: right;\n",
       "    }\n",
       "</style>\n",
       "<table border=\"1\" class=\"dataframe\">\n",
       "  <thead>\n",
       "    <tr style=\"text-align: right;\">\n",
       "      <th></th>\n",
       "      <th>sepal_length</th>\n",
       "      <th>sepal_width</th>\n",
       "      <th>petal_length</th>\n",
       "      <th>petal_width</th>\n",
       "      <th>target</th>\n",
       "      <th>species</th>\n",
       "    </tr>\n",
       "  </thead>\n",
       "  <tbody>\n",
       "    <tr>\n",
       "      <th>145</th>\n",
       "      <td>6.7</td>\n",
       "      <td>3.0</td>\n",
       "      <td>5.2</td>\n",
       "      <td>2.3</td>\n",
       "      <td>2</td>\n",
       "      <td>virginica</td>\n",
       "    </tr>\n",
       "    <tr>\n",
       "      <th>146</th>\n",
       "      <td>6.3</td>\n",
       "      <td>2.5</td>\n",
       "      <td>5.0</td>\n",
       "      <td>1.9</td>\n",
       "      <td>2</td>\n",
       "      <td>virginica</td>\n",
       "    </tr>\n",
       "    <tr>\n",
       "      <th>147</th>\n",
       "      <td>6.5</td>\n",
       "      <td>3.0</td>\n",
       "      <td>5.2</td>\n",
       "      <td>2.0</td>\n",
       "      <td>2</td>\n",
       "      <td>virginica</td>\n",
       "    </tr>\n",
       "    <tr>\n",
       "      <th>148</th>\n",
       "      <td>6.2</td>\n",
       "      <td>3.4</td>\n",
       "      <td>5.4</td>\n",
       "      <td>2.3</td>\n",
       "      <td>2</td>\n",
       "      <td>virginica</td>\n",
       "    </tr>\n",
       "    <tr>\n",
       "      <th>149</th>\n",
       "      <td>5.9</td>\n",
       "      <td>3.0</td>\n",
       "      <td>5.1</td>\n",
       "      <td>1.8</td>\n",
       "      <td>2</td>\n",
       "      <td>virginica</td>\n",
       "    </tr>\n",
       "  </tbody>\n",
       "</table>\n",
       "</div>"
      ],
      "text/plain": [
       "     sepal_length  sepal_width  petal_length  petal_width  target    species\n",
       "145           6.7          3.0           5.2          2.3       2  virginica\n",
       "146           6.3          2.5           5.0          1.9       2  virginica\n",
       "147           6.5          3.0           5.2          2.0       2  virginica\n",
       "148           6.2          3.4           5.4          2.3       2  virginica\n",
       "149           5.9          3.0           5.1          1.8       2  virginica"
      ]
     },
     "execution_count": 52,
     "metadata": {},
     "output_type": "execute_result"
    }
   ],
   "source": [
    "iris_data.tail()"
   ]
  },
  {
   "cell_type": "markdown",
   "metadata": {
    "id": "tCJScLDL1SKd"
   },
   "source": [
    "we will now select \"versicolor\" to predict its \"petal_width\" using \"petal_length \" as one of the parameter.So your next task is to make a new DataFrame named \"data\" having only rows whose species values are 'versicolor'.\n"
   ]
  },
  {
   "cell_type": "code",
   "execution_count": 53,
   "metadata": {
    "executionInfo": {
     "elapsed": 123,
     "status": "ok",
     "timestamp": 1654776437944,
     "user": {
      "displayName": "Nandini Shukla",
      "userId": "05734889060531489350"
     },
     "user_tz": -330
    },
    "id": "n8Ze6URP9j7_"
   },
   "outputs": [],
   "source": [
    "iris_data = iris_data[iris_data['species'] == 'versicolor']"
   ]
  },
  {
   "cell_type": "code",
   "execution_count": 54,
   "metadata": {
    "executionInfo": {
     "elapsed": 124,
     "status": "ok",
     "timestamp": 1654776437947,
     "user": {
      "displayName": "Nandini Shukla",
      "userId": "05734889060531489350"
     },
     "user_tz": -330
    },
    "id": "MyE_ximC2oqi"
   },
   "outputs": [],
   "source": [
    "data = pd.DataFrame(data=iris_data)"
   ]
  },
  {
   "cell_type": "code",
   "execution_count": 55,
   "metadata": {
    "colab": {
     "base_uri": "https://localhost:8080/"
    },
    "executionInfo": {
     "elapsed": 123,
     "status": "ok",
     "timestamp": 1654776437948,
     "user": {
      "displayName": "Nandini Shukla",
      "userId": "05734889060531489350"
     },
     "user_tz": -330
    },
    "id": "p0RXbALuetjD",
    "outputId": "9fe50d2f-3770-4608-fbd9-ddbd3e21b7ee"
   },
   "outputs": [
    {
     "data": {
      "text/plain": [
       "Index(['sepal_length', 'sepal_width', 'petal_length', 'petal_width', 'target',\n",
       "       'species'],\n",
       "      dtype='object')"
      ]
     },
     "execution_count": 55,
     "metadata": {},
     "output_type": "execute_result"
    }
   ],
   "source": [
    "data.columns"
   ]
  },
  {
   "cell_type": "markdown",
   "metadata": {
    "id": "ZYeNuLhH2roP"
   },
   "source": [
    "Now we are droping  all the columns except petal_length and petal_width "
   ]
  },
  {
   "cell_type": "code",
   "execution_count": 56,
   "metadata": {
    "colab": {
     "base_uri": "https://localhost:8080/",
     "height": 206
    },
    "executionInfo": {
     "elapsed": 109,
     "status": "ok",
     "timestamp": 1654776437950,
     "user": {
      "displayName": "Nandini Shukla",
      "userId": "05734889060531489350"
     },
     "user_tz": -330
    },
    "id": "fdhkRRNX3MGx",
    "outputId": "72df0694-cd40-42d9-b586-e80b9c7e7a49"
   },
   "outputs": [
    {
     "data": {
      "text/html": [
       "<div>\n",
       "<style scoped>\n",
       "    .dataframe tbody tr th:only-of-type {\n",
       "        vertical-align: middle;\n",
       "    }\n",
       "\n",
       "    .dataframe tbody tr th {\n",
       "        vertical-align: top;\n",
       "    }\n",
       "\n",
       "    .dataframe thead th {\n",
       "        text-align: right;\n",
       "    }\n",
       "</style>\n",
       "<table border=\"1\" class=\"dataframe\">\n",
       "  <thead>\n",
       "    <tr style=\"text-align: right;\">\n",
       "      <th></th>\n",
       "      <th>petal_length</th>\n",
       "      <th>petal_width</th>\n",
       "    </tr>\n",
       "  </thead>\n",
       "  <tbody>\n",
       "    <tr>\n",
       "      <th>50</th>\n",
       "      <td>4.7</td>\n",
       "      <td>1.4</td>\n",
       "    </tr>\n",
       "    <tr>\n",
       "      <th>51</th>\n",
       "      <td>4.5</td>\n",
       "      <td>1.5</td>\n",
       "    </tr>\n",
       "    <tr>\n",
       "      <th>52</th>\n",
       "      <td>4.9</td>\n",
       "      <td>1.5</td>\n",
       "    </tr>\n",
       "    <tr>\n",
       "      <th>53</th>\n",
       "      <td>4.0</td>\n",
       "      <td>1.3</td>\n",
       "    </tr>\n",
       "    <tr>\n",
       "      <th>54</th>\n",
       "      <td>4.6</td>\n",
       "      <td>1.5</td>\n",
       "    </tr>\n",
       "  </tbody>\n",
       "</table>\n",
       "</div>"
      ],
      "text/plain": [
       "    petal_length  petal_width\n",
       "50           4.7          1.4\n",
       "51           4.5          1.5\n",
       "52           4.9          1.5\n",
       "53           4.0          1.3\n",
       "54           4.6          1.5"
      ]
     },
     "execution_count": 56,
     "metadata": {},
     "output_type": "execute_result"
    }
   ],
   "source": [
    "data.drop(columns=['target','species','sepal_length','sepal_width'],inplace=True)\n",
    "data.head()"
   ]
  },
  {
   "cell_type": "markdown",
   "metadata": {
    "id": "efLdoEU23T16"
   },
   "source": [
    "Now write code to print the shape of DataFrame named as data."
   ]
  },
  {
   "cell_type": "code",
   "execution_count": 57,
   "metadata": {
    "colab": {
     "base_uri": "https://localhost:8080/"
    },
    "executionInfo": {
     "elapsed": 103,
     "status": "ok",
     "timestamp": 1654776437951,
     "user": {
      "displayName": "Nandini Shukla",
      "userId": "05734889060531489350"
     },
     "user_tz": -330
    },
    "id": "mVj5R8oq3Smi",
    "outputId": "08c3e81e-abd5-4bdf-9958-b147c0afb1c8"
   },
   "outputs": [
    {
     "data": {
      "text/plain": [
       "(50, 2)"
      ]
     },
     "execution_count": 57,
     "metadata": {},
     "output_type": "execute_result"
    }
   ],
   "source": [
    "data.shape"
   ]
  },
  {
   "cell_type": "markdown",
   "metadata": {
    "id": "dadtXxV_3sVn"
   },
   "source": [
    "Now  plot the Dataframe named data having x axis as 'petal_length', y axis as 'petal_width' and kind='scatter' "
   ]
  },
  {
   "cell_type": "code",
   "execution_count": 58,
   "metadata": {
    "colab": {
     "base_uri": "https://localhost:8080/",
     "height": 352
    },
    "executionInfo": {
     "elapsed": 580,
     "status": "ok",
     "timestamp": 1654776438438,
     "user": {
      "displayName": "Nandini Shukla",
      "userId": "05734889060531489350"
     },
     "user_tz": -330
    },
    "id": "pF_MxtFw3d--",
    "outputId": "d3460d81-3367-43fd-8385-556cf5959933"
   },
   "outputs": [
    {
     "data": {
      "text/plain": [
       "<AxesSubplot:xlabel='petal_length', ylabel='petal_width'>"
      ]
     },
     "execution_count": 58,
     "metadata": {},
     "output_type": "execute_result"
    },
    {
     "data": {
      "image/png": "[encoded data removed]",
      "text/plain": [
       "<Figure size 720x360 with 1 Axes>"
      ]
     },
     "metadata": {
      "needs_background": "light"
     },
     "output_type": "display_data"
    }
   ],
   "source": [
    "data.plot(x = 'petal_length',y = 'petal_width',kind = 'scatter',figsize=(10,5))"
   ]
  },
  {
   "cell_type": "markdown",
   "metadata": {
    "id": "9sGVWADy3-t3"
   },
   "source": [
    "Now let's start with Linear Regression"
   ]
  },
  {
   "cell_type": "markdown",
   "metadata": {
    "id": "aS1Aobxj5OHE"
   },
   "source": [
    "We will now split the dataset into training and test datasets into (X_train,Y_train) and (X_test,Y_test)"
   ]
  },
  {
   "cell_type": "code",
   "execution_count": 59,
   "metadata": {
    "executionInfo": {
     "elapsed": 22,
     "status": "ok",
     "timestamp": 1654776438441,
     "user": {
      "displayName": "Nandini Shukla",
      "userId": "05734889060531489350"
     },
     "user_tz": -330
    },
    "id": "7mlk5wXS3-I-"
   },
   "outputs": [],
   "source": [
    "from sklearn.model_selection import train_test_split\n",
    "X=data['petal_length'].values.reshape(-1,1)\n",
    "Y=data['petal_width'].values.reshape(-1,1)\n",
    "X_-+train,X_test,Y_train,Y_test=train_test_split(X,Y, test_size=0.33,random_state=1)\n"
   ]
  },
  {
   "cell_type": "markdown",
   "metadata": {
    "id": "nbYJCUet6Ac8"
   },
   "source": [
    "Now let's plot the training  datasets of  kind scatter with x axis as X_train and y axis as Y_train."
   ]
  },
  {
   "cell_type": "code",
   "execution_count": 60,
   "metadata": {
    "colab": {
     "base_uri": "https://localhost:8080/",
     "height": 280
    },
    "executionInfo": {
     "elapsed": 1930,
     "status": "ok",
     "timestamp": 1654776440350,
     "user": {
      "displayName": "Nandini Shukla",
      "userId": "05734889060531489350"
     },
     "user_tz": -330
    },
    "id": "yJOhoeN15_7j",
    "outputId": "7b7c3657-3802-4490-b028-f03ccc74236f"
   },
   "outputs": [
    {
     "data": {
      "image/png": "[encoded data removed]",
      "text/plain": [
       "<Figure size 432x288 with 1 Axes>"
      ]
     },
     "metadata": {
      "needs_background": "light"
     },
     "output_type": "display_data"
    }
   ],
   "source": [
    "#your code here for plotting training dataset data.plot(x = X_train, y = Y_train,kind = 'scatter',  figsize=(10,5) )\n",
    "pyplot.plot(X_train,  Y_train, 'o', ms=5, mec='k')\n",
    "pyplot.ylabel('Y_train')\n",
    "pyplot.xlabel('X_train')\n",
    "pyplot.show()"
   ]
  },
  {
   "cell_type": "markdown",
   "metadata": {
    "id": "-deWY8bd3QOR"
   },
   "source": [
    "Now let's plot the test datasets of kind scatter with x axis as X_test and y axis as Y_test"
   ]
  },
  {
   "cell_type": "code",
   "execution_count": 61,
   "metadata": {
    "executionInfo": {
     "elapsed": 96,
     "status": "ok",
     "timestamp": 1654776440353,
     "user": {
      "displayName": "Nandini Shukla",
      "userId": "05734889060531489350"
     },
     "user_tz": -330
    },
    "id": "ScUhnUQZ6ji8"
   },
   "outputs": [],
   "source": [
    "#your code here for plotting test dataset"
   ]
  },
  {
   "cell_type": "code",
   "execution_count": 62,
   "metadata": {
    "colab": {
     "base_uri": "https://localhost:8080/",
     "height": 280
    },
    "executionInfo": {
     "elapsed": 98,
     "status": "ok",
     "timestamp": 1654776440356,
     "user": {
      "displayName": "Nandini Shukla",
      "userId": "05734889060531489350"
     },
     "user_tz": -330
    },
    "id": "jabVknktEBOW",
    "outputId": "40803a71-0cfb-428e-c618-489951869e57"
   },
   "outputs": [
    {
     "data": {
      "image/png": "[encoded data removed]",
      "text/plain": [
       "<Figure size 432x288 with 1 Axes>"
      ]
     },
     "metadata": {
      "needs_background": "light"
     },
     "output_type": "display_data"
    }
   ],
   "source": [
    "pyplot.plot(X_test,  Y_test, 'rx', ms=10, mec='k')\n",
    "pyplot.ylabel('Y_test')\n",
    "pyplot.xlabel('X_test')\n",
    "pyplot.show()"
   ]
  },
  {
   "cell_type": "markdown",
   "metadata": {
    "id": "wOqRiAEX6kPc"
   },
   "source": [
    "Now write the code for LinearRegession using sklearn."
   ]
  },
  {
   "cell_type": "code",
   "execution_count": 63,
   "metadata": {
    "colab": {
     "base_uri": "https://localhost:8080/"
    },
    "executionInfo": {
     "elapsed": 451,
     "status": "ok",
     "timestamp": 1654776477857,
     "user": {
      "displayName": "Nandini Shukla",
      "userId": "05734889060531489350"
     },
     "user_tz": -330
    },
    "id": "JhyeUNQ47A49",
    "outputId": "ef982210-eeb1-41d9-9c43-347fc7de2f64"
   },
   "outputs": [
    {
     "data": {
      "text/plain": [
       "LinearRegression()"
      ]
     },
     "execution_count": 63,
     "metadata": {},
     "output_type": "execute_result"
    }
   ],
   "source": [
    "from sklearn.linear_model import LinearRegression\n",
    "#your code here\n",
    "ln = LinearRegression()\n",
    "ln.fit(X_test,Y_test)"
   ]
  },
  {
   "cell_type": "markdown",
   "metadata": {
    "id": "rlE9pmx97R-d"
   },
   "source": [
    "Now print the Intercept and Coefficient."
   ]
  },
  {
   "cell_type": "code",
   "execution_count": 64,
   "metadata": {
    "colab": {
     "base_uri": "https://localhost:8080/"
    },
    "executionInfo": {
     "elapsed": 9,
     "status": "ok",
     "timestamp": 1654776478554,
     "user": {
      "displayName": "Nandini Shukla",
      "userId": "05734889060531489350"
     },
     "user_tz": -330
    },
    "id": "sh1laxMd7n-G",
    "outputId": "951defdc-7bda-41e1-b68f-2469e8082f57"
   },
   "outputs": [
    {
     "name": "stdout",
     "output_type": "stream",
     "text": [
      "[-0.09963964]\n"
     ]
    }
   ],
   "source": [
    "print(ln.intercept_)"
   ]
  },
  {
   "cell_type": "code",
   "execution_count": 65,
   "metadata": {
    "colab": {
     "base_uri": "https://localhost:8080/"
    },
    "executionInfo": {
     "elapsed": 10,
     "status": "ok",
     "timestamp": 1654776479087,
     "user": {
      "displayName": "Nandini Shukla",
      "userId": "05734889060531489350"
     },
     "user_tz": -330
    },
    "id": "Co45wK4gXROp",
    "outputId": "1636e05a-23b1-48cb-b132-695e8f336d5d"
   },
   "outputs": [
    {
     "name": "stdout",
     "output_type": "stream",
     "text": [
      "[[0.33753754]]\n"
     ]
    }
   ],
   "source": [
    "print(ln.coef_)"
   ]
  },
  {
   "cell_type": "markdown",
   "metadata": {
    "id": "-XtAd6b07rhr"
   },
   "source": [
    "Now we can overlay the predicted line and test data points to see where the predicted point lies."
   ]
  },
  {
   "cell_type": "code",
   "execution_count": 67,
   "metadata": {
    "executionInfo": {
     "elapsed": 98,
     "status": "ok",
     "timestamp": 1654776440373,
     "user": {
      "displayName": "Nandini Shukla",
      "userId": "05734889060531489350"
     },
     "user_tz": -330
    },
    "id": "wGg0reYm9Ngg"
   },
   "outputs": [
    {
     "data": {
      "text/plain": [
       "[<matplotlib.lines.Line2D at 0x21a0e72d400>]"
      ]
     },
     "execution_count": 67,
     "metadata": {},
     "output_type": "execute_result"
    },
    {
     "data": {
      "image/png": "[encoded data removed]",
      "text/plain": [
       "<Figure size 432x288 with 1 Axes>"
      ]
     },
     "metadata": {
      "needs_background": "light"
     },
     "output_type": "display_data"
    }
   ],
   "source": [
    "Y_pred=ln.predict(X_test)\n",
    "pyplot.scatter(x=X_test,y=Y_test)\n",
    "pyplot.plot(X_test,Y_pred)"
   ]
  },
  {
   "cell_type": "markdown",
   "metadata": {
    "id": "wnrieQBL-O2A"
   },
   "source": [
    "This is end of assisgnment , but for futhur reading you can search articles on \n",
    "Lasso Regression, Multivariate Regression , ElasticNet regression, Ridge Regression, Stepwise Regression."
   ]
  }
 ],
 "metadata": {
  "colab": {
   "collapsed_sections": [],
   "name": "SA2022_WEEK_2.ipynb",
   "provenance": [
    {
     "file_id": "1L_VkFgi-SUgmlLeWPKqTr3BVUZ6VUpYv",
     "timestamp": 1654544962297
    }
   ]
  },
  "kernelspec": {
   "display_name": "Python 3 (ipykernel)",
   "language": "python",
   "name": "python3"
  },
  "language_info": {
   "codemirror_mode": {
    "name": "ipython",
    "version": 3
   },
   "file_extension": ".py",
   "mimetype": "text/x-python",
   "name": "python",
   "nbconvert_exporter": "python",
   "pygments_lexer": "ipython3",
   "version": "3.9.12"
  }
 },
 "nbformat": 4,
 "nbformat_minor": 1
}
